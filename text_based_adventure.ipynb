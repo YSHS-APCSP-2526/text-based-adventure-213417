{
  "nbformat": 4,
  "nbformat_minor": 0,
  "metadata": {
    "colab": {
      "provenance": [],
      "include_colab_link": true
    },
    "kernelspec": {
      "name": "python3",
      "display_name": "Python 3"
    },
    "language_info": {
      "name": "python"
    }
  },
  "cells": [
    {
      "cell_type": "markdown",
      "metadata": {
        "id": "view-in-github",
        "colab_type": "text"
      },
      "source": [
        "<a href=\"https://colab.research.google.com/github/YSHS-APCSP-2526/text-based-adventure-213417/blob/main/text_based_adventure.ipynb\" target=\"_parent\"><img src=\"https://colab.research.google.com/assets/colab-badge.svg\" alt=\"Open In Colab\"/></a>"
      ]
    },
    {
      "cell_type": "markdown",
      "source": [
        "#Requirements for text based adventure\n",
        "1. You must have at least 2 different \"paths\" that are at least 4 decisions in length\n",
        "2. Include an element of randomness (from the random library)\n",
        "3. Include a list that is core to the text based adventure\n",
        "4. Include a function that is called within your program that includes a while loop, and a parameter that influences a conditional statement in your function.\n",
        "5. Commented Code.\n",
        "6. A [digital flowchart](https://docs.google.com/document/d/1p2k3wL6gzjYWBuWxwEQptmbbOZZNsQrthlC12SNtYgY/edit?usp=sharing) that follows accepted symbols for representing code. You can use google slides or [draw.io](https://www.drawio.com/) for the flowchart."
      ],
      "metadata": {
        "id": "zpSmche7G_jy"
      }
    },
    {
      "cell_type": "code",
      "source": [
        "def intro():\n",
        " response = input(\"You learn about a treasure hunt with 100 million est value. Do you start journey? Y or N:    \")\n",
        " return response"
      ],
      "metadata": {
        "id": "DToswc3clKpf"
      },
      "execution_count": null,
      "outputs": []
    },
    {
      "cell_type": "code",
      "source": [
        "def choice1(response):\n",
        "  response = (response).lower()\n",
        "  if response == \"yes\" or \"Y\":\n",
        "    print(\"Great, adventure awaits. You now decide to take a boat vs a plane. Boat travel has a longer travel time, but plane travel requires more fuel.\")\n",
        "  else:\n",
        "    print(\"you are boring\")\n",
        "\n"
      ],
      "metadata": {
        "id": "usuzDAUp74qP"
      },
      "execution_count": null,
      "outputs": []
    },
    {
      "cell_type": "code",
      "source": [
        "def choice2(response):\n",
        "  response = input(\"Travel time is 1 week, but along the way you stock up on fish\")\n",
        "  if response==\"boat\"\n",
        "  return response"
      ],
      "metadata": {
        "id": "l2rZ1OnUA94R"
      },
      "execution_count": null,
      "outputs": []
    },
    {
      "cell_type": "code",
      "source": [
        "def main():\n",
        "  response = intro()\n",
        "  choice1(response)\n",
        "  choice2(response)"
      ],
      "metadata": {
        "id": "ZDD8ALYW6gZb"
      },
      "execution_count": null,
      "outputs": []
    },
    {
      "cell_type": "code",
      "source": [
        "main()"
      ],
      "metadata": {
        "id": "_fX22yqE_IDh",
        "outputId": "f0eeb2e6-1b8c-40e9-f646-ca05f8d5591c",
        "colab": {
          "base_uri": "https://localhost:8080/"
        }
      },
      "execution_count": null,
      "outputs": [
        {
          "output_type": "stream",
          "name": "stdout",
          "text": [
            "You learn about a treasure hunt with 100 million est value. Do you start journey? Y or N:    Y\n",
            "Great, adventure awaits. You now decide to take a boat vs a plane. Boat travel has a longer travel time, but plane travel requires more fuel.\n"
          ]
        }
      ]
    },
    {
      "cell_type": "code",
      "source": [
        "x=0\n",
        "  while x<5\n",
        "  print(\"hello\")"
      ],
      "metadata": {
        "colab": {
          "base_uri": "https://localhost:8080/",
          "height": 106
        },
        "id": "pFWQ3B8AB99q",
        "outputId": "1de53362-4873-49b8-8c9d-703789cdd48e"
      },
      "execution_count": null,
      "outputs": [
        {
          "output_type": "error",
          "ename": "IndentationError",
          "evalue": "unexpected indent (ipython-input-34383928.py, line 2)",
          "traceback": [
            "\u001b[0;36m  File \u001b[0;32m\"/tmp/ipython-input-34383928.py\"\u001b[0;36m, line \u001b[0;32m2\u001b[0m\n\u001b[0;31m    while x<5\u001b[0m\n\u001b[0m    ^\u001b[0m\n\u001b[0;31mIndentationError\u001b[0m\u001b[0;31m:\u001b[0m unexpected indent\n"
          ]
        }
      ]
    },
    {
      "cell_type": "code",
      "source": [
        "def responseValidator (response):\n",
        "  while response !=\"yes\" and response !=\"no\":\n",
        "    response = input(\"invalid response, please try again\")\n",
        "  return response"
      ],
      "metadata": {
        "id": "8gYKSD7hCdJa"
      },
      "execution_count": null,
      "outputs": []
    },
    {
      "cell_type": "code",
      "source": [
        "responseValidator(\"yes\")"
      ],
      "metadata": {
        "colab": {
          "base_uri": "https://localhost:8080/",
          "height": 35
        },
        "id": "kUaO87i4DFfW",
        "outputId": "a4c218ea-1413-4a3a-dc36-83708340f78e"
      },
      "execution_count": null,
      "outputs": [
        {
          "output_type": "execute_result",
          "data": {
            "text/plain": [
              "'yes'"
            ],
            "application/vnd.google.colaboratory.intrinsic+json": {
              "type": "string"
            }
          },
          "metadata": {},
          "execution_count": 8
        }
      ]
    },
    {
      "cell_type": "code",
      "source": [
        "def choice1():\n",
        "  response1= input(\"do you agree, yes no\")\n",
        "  response1=responseValidator(response1)\n",
        "  return  response1"
      ],
      "metadata": {
        "id": "yBUlDXPKDQLz"
      },
      "execution_count": null,
      "outputs": []
    },
    {
      "cell_type": "markdown",
      "source": [],
      "metadata": {
        "id": "MJ909JN36gIU"
      }
    }
  ]
}