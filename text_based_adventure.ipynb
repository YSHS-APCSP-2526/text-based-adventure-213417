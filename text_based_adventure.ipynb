{
  "nbformat": 4,
  "nbformat_minor": 0,
  "metadata": {
    "colab": {
      "provenance": [],
      "include_colab_link": true
    },
    "kernelspec": {
      "name": "python3",
      "display_name": "Python 3"
    },
    "language_info": {
      "name": "python"
    }
  },
  "cells": [
    {
      "cell_type": "markdown",
      "metadata": {
        "id": "view-in-github",
        "colab_type": "text"
      },
      "source": [
        "<a href=\"https://colab.research.google.com/github/YSHS-APCSP-2526/text-based-adventure-213417/blob/main/text_based_adventure.ipynb\" target=\"_parent\"><img src=\"https://colab.research.google.com/assets/colab-badge.svg\" alt=\"Open In Colab\"/></a>"
      ]
    },
    {
      "cell_type": "markdown",
      "source": [
        "#Requirements for text based adventure\n",
        "1. You must have at least 2 different \"paths\" that are at least 4 decisions in length\n",
        "2. Include an element of randomness (from the random library)\n",
        "3. Include a list that is core to the text based adventure\n",
        "4. Include a function that is called within your program that includes a while loop, and a parameter that influences a conditional statement in your function.\n",
        "5. Commented Code.\n",
        "6. A [digital flowchart](https://docs.google.com/document/d/1p2k3wL6gzjYWBuWxwEQptmbbOZZNsQrthlC12SNtYgY/edit?usp=sharing) that follows accepted symbols for representing code. You can use google slides or [draw.io](https://www.drawio.com/) for the flowchart."
      ],
      "metadata": {
        "id": "zpSmche7G_jy"
      }
    },
    {
      "cell_type": "code",
      "source": [
        "def intro():\n",
        " response = input(\"You learn about a treasure hunt with 100 million est value. Do you start journey? Y or N:    \")\n",
        " return response"
      ],
      "metadata": {
        "id": "DToswc3clKpf"
      },
      "execution_count": 2,
      "outputs": []
    },
    {
      "cell_type": "code",
      "source": [
        "def choice1(response):\n",
        "  response = (response).lower()\n",
        "  if response == \"yes\" or \"Y\":\n",
        "    print(\"Great, adventure awaits. You now decide to take a boat vs a plane. Boat travel has a longer travel time, but plane travel requires more fuel.\")\n",
        "  else:\n",
        "    print(\"you are boring\")\n",
        "\n"
      ],
      "metadata": {
        "id": "usuzDAUp74qP"
      },
      "execution_count": 3,
      "outputs": []
    },
    {
      "cell_type": "code",
      "source": [
        "def choice2(response):\n",
        "  response = input(\"Choose boat or plane\")\n",
        "  if response==\"boat\":\n",
        "    print (\"Arrived: Great you arrive after 1 week due to a storm, at least you have fish\")\n",
        "  else:\n",
        "    print (\"Arrived: You burn a lot of fuel hopefully you can get back home, but you arrive ahead of the storm\")\n",
        "  return response"
      ],
      "metadata": {
        "id": "l2rZ1OnUA94R"
      },
      "execution_count": 11,
      "outputs": []
    },
    {
      "cell_type": "code",
      "source": [
        "def choice3(response):\n",
        "  response = input(\"Now that you arrived, decide next steps: Go right into jungle or look at the map. Type jungle or map\")\n",
        "  if response==\"jungle\":\n",
        "    print (\"Great, no hesitation, let's go!\")\n",
        "  else:\n",
        "    print (\"You see on the map there is a waterfall or cave.\")\n",
        "  return response"
      ],
      "metadata": {
        "id": "_H75Z2p4MfXD"
      },
      "execution_count": 16,
      "outputs": []
    },
    {
      "cell_type": "code",
      "source": [
        "def choice4(response):\n",
        "  response = input(\"with the goal to find the heart of the island, which do you choose? The cave is closer, but the waterfall seems closer to the middle.\")\n",
        "  if response==\"waterfall\":\n",
        "    print (\"Waterfall it is. Estimate a 5 mile trek\")\n",
        "  else:\n",
        "    print (\"2 mile trek to the cave, hopefully you have flashlights\")\n",
        "  return response"
      ],
      "metadata": {
        "id": "sJy4cPTQPQtt"
      },
      "execution_count": 19,
      "outputs": []
    },
    {
      "cell_type": "code",
      "source": [
        "def choice5(response):\n",
        "  response = input(\"you chose waterfall: after the 5 mile trek in uneven terrain, you arrive. you notice the waterfall covers a grotto, do you enter or give up and go back to the cave \")\n",
        "  if response==\"swim\":\n",
        "    print (\"you start the swim. the water is so refreshing after your hike\")\n",
        "  else:\n",
        "    print (\"okay, you walk back to the cave region then\")\n",
        "  return response"
      ],
      "metadata": {
        "id": "2DKjsXp_Rg3z"
      },
      "execution_count": null,
      "outputs": []
    },
    {
      "cell_type": "code",
      "source": [
        "def main():\n",
        "  response = intro()\n",
        "  choice1(response)\n",
        "  choice2(response)\n",
        "  choice3(response)\n",
        "  choice4(response)\n",
        "  choice5(response)"
      ],
      "metadata": {
        "id": "ZDD8ALYW6gZb"
      },
      "execution_count": null,
      "outputs": []
    },
    {
      "cell_type": "code",
      "source": [
        "main()"
      ],
      "metadata": {
        "id": "_fX22yqE_IDh",
        "outputId": "85fb9119-4f7f-4f3f-a4ef-84717cd1d235",
        "colab": {
          "base_uri": "https://localhost:8080/"
        }
      },
      "execution_count": null,
      "outputs": [
        {
          "output_type": "stream",
          "name": "stdout",
          "text": [
            "You learn about a treasure hunt with 100 million est value. Do you start journey? Y or N:    y\n",
            "Great, adventure awaits. You now decide to take a boat vs a plane. Boat travel has a longer travel time, but plane travel requires more fuel.\n",
            "Choose boat or planeboat\n",
            "Great you arrive after 1 week due to a storm, at least you have fish\n",
            "Now that you arrived, decide next steps: Go right into jungle or look at the map. Type jungle or mapjungle\n",
            "Great, no hesitation, let's go!\n"
          ]
        }
      ]
    },
    {
      "cell_type": "code",
      "source": [
        "def responseValidator (response):\n",
        "  while response !=\"yes\" and response !=\"no\":\n",
        "    response = input(\"invalid response, please try again\")\n",
        "  return response"
      ],
      "metadata": {
        "id": "8gYKSD7hCdJa"
      },
      "execution_count": 10,
      "outputs": []
    },
    {
      "cell_type": "code",
      "source": [
        "responseValidator(\"yes\")"
      ],
      "metadata": {
        "colab": {
          "base_uri": "https://localhost:8080/",
          "height": 35
        },
        "id": "kUaO87i4DFfW",
        "outputId": "a4c218ea-1413-4a3a-dc36-83708340f78e"
      },
      "execution_count": null,
      "outputs": [
        {
          "output_type": "execute_result",
          "data": {
            "text/plain": [
              "'yes'"
            ],
            "application/vnd.google.colaboratory.intrinsic+json": {
              "type": "string"
            }
          },
          "metadata": {},
          "execution_count": 8
        }
      ]
    },
    {
      "cell_type": "code",
      "source": [
        "def choice1():\n",
        "  response1= input(\"do you agree, yes no\")\n",
        "  response1=responseValidator(response1)\n",
        "  return  response1"
      ],
      "metadata": {
        "id": "yBUlDXPKDQLz"
      },
      "execution_count": 1,
      "outputs": []
    },
    {
      "cell_type": "markdown",
      "source": [],
      "metadata": {
        "id": "MJ909JN36gIU"
      }
    }
  ]
}